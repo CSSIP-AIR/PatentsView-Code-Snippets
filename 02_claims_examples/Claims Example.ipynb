{
 "cells": [
  {
   "cell_type": "markdown",
   "metadata": {},
   "source": [
    "# Claims Parsing\n",
    "## Type 1: Claims for patents granted from 2004 and later\n"
   ]
  },
  {
   "cell_type": "code",
   "execution_count": 24,
   "metadata": {
    "ExecuteTime": {
     "end_time": "2020-05-09T21:07:07.510639Z",
     "start_time": "2020-05-09T21:07:07.503099Z"
    }
   },
   "outputs": [],
   "source": [
    "pandas_chunksize = 100000\n",
    "delimiter =\"\\t\"\n",
    "filepath = \"claims_2005.tsv\""
   ]
  },
  {
   "cell_type": "markdown",
   "metadata": {},
   "source": [
    "### Using pandas"
   ]
  },
  {
   "cell_type": "code",
   "execution_count": 14,
   "metadata": {
    "ExecuteTime": {
     "end_time": "2020-05-09T21:02:04.188623Z",
     "start_time": "2020-05-09T21:02:04.182731Z"
    }
   },
   "outputs": [],
   "source": [
    "import pandas as pd"
   ]
  },
  {
   "cell_type": "code",
   "execution_count": null,
   "metadata": {},
   "outputs": [],
   "source": [
    "total_rows = 0 "
   ]
  },
  {
   "cell_type": "code",
   "execution_count": 21,
   "metadata": {
    "ExecuteTime": {
     "end_time": "2020-05-09T21:06:29.985192Z",
     "start_time": "2020-05-09T21:06:29.722510Z"
    }
   },
   "outputs": [],
   "source": [
    "claims_chunks = pd.read_csv(filepath, sep=delimiter, chunksize=pandas_chunksize )\n",
    "\n",
    "for claim_chunk in claims_chunks:\n",
    "    total_rows += claim_chunk.shape[0]"
   ]
  },
  {
   "cell_type": "code",
   "execution_count": 23,
   "metadata": {
    "ExecuteTime": {
     "end_time": "2020-05-09T21:07:01.693641Z",
     "start_time": "2020-05-09T21:07:01.684575Z"
    }
   },
   "outputs": [
    {
     "data": {
      "text/plain": [
       "3628513"
      ]
     },
     "execution_count": 23,
     "metadata": {},
     "output_type": "execute_result"
    }
   ],
   "source": [
    "total_rows"
   ]
  },
  {
   "cell_type": "markdown",
   "metadata": {},
   "source": [
    "### Using CSV reader"
   ]
  },
  {
   "cell_type": "code",
   "execution_count": 25,
   "metadata": {
    "ExecuteTime": {
     "end_time": "2020-05-09T21:07:21.499392Z",
     "start_time": "2020-05-09T21:07:21.491823Z"
    }
   },
   "outputs": [],
   "source": [
    "import csv"
   ]
  },
  {
   "cell_type": "code",
   "execution_count": null,
   "metadata": {},
   "outputs": [],
   "source": [
    "total_rows=0"
   ]
  },
  {
   "cell_type": "code",
   "execution_count": 26,
   "metadata": {
    "ExecuteTime": {
     "end_time": "2020-05-09T21:08:33.227856Z",
     "start_time": "2020-05-09T21:08:10.764715Z"
    }
   },
   "outputs": [],
   "source": [
    "with open(filepath) as fp:\n",
    "    reader = csv.reader(fp, delimiter=delimiter)\n",
    "    for csv_row in reader:\n",
    "        total_rows+=1"
   ]
  },
  {
   "cell_type": "code",
   "execution_count": 27,
   "metadata": {
    "ExecuteTime": {
     "end_time": "2020-05-09T21:08:33.238835Z",
     "start_time": "2020-05-09T21:08:33.230787Z"
    }
   },
   "outputs": [
    {
     "name": "stdout",
     "output_type": "stream",
     "text": [
      "7257027\n"
     ]
    }
   ],
   "source": [
    "print(total_rows)"
   ]
  },
  {
   "cell_type": "code",
   "execution_count": null,
   "metadata": {},
   "outputs": [],
   "source": []
  }
 ],
 "metadata": {
  "kernelspec": {
   "display_name": "Python 3",
   "language": "python",
   "name": "python3"
  },
  "language_info": {
   "codemirror_mode": {
    "name": "ipython",
    "version": 3
   },
   "file_extension": ".py",
   "mimetype": "text/x-python",
   "name": "python",
   "nbconvert_exporter": "python",
   "pygments_lexer": "ipython3",
   "version": "3.6.7"
  }
 },
 "nbformat": 4,
 "nbformat_minor": 2
}
