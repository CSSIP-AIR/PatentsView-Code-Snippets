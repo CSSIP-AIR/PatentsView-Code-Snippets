{
 "cells": [
  {
   "cell_type": "markdown",
   "metadata": {},
   "source": [
    "# Claims Parsing\n"
   ]
  },
  {
   "cell_type": "code",
   "execution_count": 1,
   "metadata": {
    "ExecuteTime": {
     "end_time": "2020-05-10T20:39:04.693196Z",
     "start_time": "2020-05-10T20:39:04.681724Z"
    }
   },
   "outputs": [],
   "source": [
    "import csv\n",
    "pandas_chunksize = 100000\n",
    "delimiter =\"\\t\"\n",
    "filepath = \"claims_2005.tsv\"\n",
    "quote_type =csv.QUOTE_NONNUMERIC"
   ]
  },
  {
   "cell_type": "markdown",
   "metadata": {},
   "source": [
    "### Using pandas"
   ]
  },
  {
   "cell_type": "code",
   "execution_count": 2,
   "metadata": {
    "ExecuteTime": {
     "end_time": "2020-05-10T20:39:06.355920Z",
     "start_time": "2020-05-10T20:39:05.866932Z"
    }
   },
   "outputs": [],
   "source": [
    "import pandas as pd"
   ]
  },
  {
   "cell_type": "code",
   "execution_count": 3,
   "metadata": {
    "ExecuteTime": {
     "end_time": "2020-05-10T20:39:06.497168Z",
     "start_time": "2020-05-10T20:39:06.490860Z"
    }
   },
   "outputs": [],
   "source": [
    "total_rows = 0 "
   ]
  },
  {
   "cell_type": "code",
   "execution_count": 4,
   "metadata": {
    "ExecuteTime": {
     "end_time": "2020-05-10T20:39:31.874577Z",
     "start_time": "2020-05-10T20:39:07.897470Z"
    },
    "scrolled": true
   },
   "outputs": [],
   "source": [
    "claims_chunks = pd.read_csv(\n",
    "    filepath,\n",
    "    sep=delimiter,\n",
    "    chunksize=pandas_chunksize,\n",
    "    quoting=quote_type,\n",
    "    quotechar='\"')\n",
    "\n",
    "for claim_chunk in claims_chunks:\n",
    "    total_rows += claim_chunk.shape[0]"
   ]
  },
  {
   "cell_type": "code",
   "execution_count": 5,
   "metadata": {
    "ExecuteTime": {
     "end_time": "2020-05-10T20:39:31.896463Z",
     "start_time": "2020-05-10T20:39:31.880724Z"
    }
   },
   "outputs": [
    {
     "data": {
      "text/plain": [
       "3628513"
      ]
     },
     "execution_count": 5,
     "metadata": {},
     "output_type": "execute_result"
    }
   ],
   "source": [
    "total_rows"
   ]
  },
  {
   "cell_type": "markdown",
   "metadata": {},
   "source": [
    "### Using CSV reader"
   ]
  },
  {
   "cell_type": "code",
   "execution_count": 6,
   "metadata": {
    "ExecuteTime": {
     "end_time": "2020-05-10T20:39:31.908592Z",
     "start_time": "2020-05-10T20:39:31.901140Z"
    }
   },
   "outputs": [],
   "source": [
    "import csv"
   ]
  },
  {
   "cell_type": "code",
   "execution_count": 11,
   "metadata": {
    "ExecuteTime": {
     "end_time": "2020-05-10T20:41:12.864381Z",
     "start_time": "2020-05-10T20:41:12.857797Z"
    }
   },
   "outputs": [],
   "source": [
    "total_rows=0"
   ]
  },
  {
   "cell_type": "code",
   "execution_count": 12,
   "metadata": {
    "ExecuteTime": {
     "end_time": "2020-05-10T20:41:33.025448Z",
     "start_time": "2020-05-10T20:41:13.005490Z"
    }
   },
   "outputs": [],
   "source": [
    "with open(filepath) as fp:\n",
    "    reader = csv.reader(fp, delimiter=delimiter,quotechar='\"', quoting=quote_type)\n",
    "    for csv_row in reader:\n",
    "        total_rows+=1"
   ]
  },
  {
   "cell_type": "code",
   "execution_count": 13,
   "metadata": {
    "ExecuteTime": {
     "end_time": "2020-05-10T20:41:33.034002Z",
     "start_time": "2020-05-10T20:41:33.027644Z"
    }
   },
   "outputs": [
    {
     "name": "stdout",
     "output_type": "stream",
     "text": [
      "3628514\n"
     ]
    }
   ],
   "source": [
    "print(total_rows)"
   ]
  }
 ],
 "metadata": {
  "kernelspec": {
   "display_name": "Python 3",
   "language": "python",
   "name": "python3"
  },
  "language_info": {
   "codemirror_mode": {
    "name": "ipython",
    "version": 3
   },
   "file_extension": ".py",
   "mimetype": "text/x-python",
   "name": "python",
   "nbconvert_exporter": "python",
   "pygments_lexer": "ipython3",
   "version": "3.6.7"
  }
 },
 "nbformat": 4,
 "nbformat_minor": 2
}
